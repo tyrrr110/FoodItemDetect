{
  "nbformat": 4,
  "nbformat_minor": 0,
  "metadata": {
    "colab": {
      "provenance": []
    },
    "kernelspec": {
      "name": "python3",
      "display_name": "Python 3"
    },
    "language_info": {
      "name": "python"
    }
  },
  "cells": [
    {
      "cell_type": "markdown",
      "source": [
        "input data format:\n",
        "[{\"image_id\": \"dish_1557863056\", \"category_id\": 1, \"bbox\": [322.73, 176.374, 160.037, 158.328], \"score\": 0.91063}, {\"image_id\": \"dish_1557863056\", \"category_id\": 6, \"bbox\": [368.873, 188.253, 84.929, 109.042], \"score\": 0.01076}, {\"image_id\": \"dish_1557863056\", \"category_id\": 4, \"bbox\": [328.342, 171.047, 150.88, 163.007], \"score\": 0.00685}, {\"image_id\": \"dish_1557863056\", \"category_id\": 6, \"bbox\": [372.707, 209.574, 68.966, 83.873], \"score\": 0.00464}, {\"image_id\": \"dish_1557863056\", \"category_id\": 8, \"bbox\": [273.234, 46.411, 63.032, 50.947], \"score\": 0.00337}, {\"image_id\": \"dish_1557863056\", \"category_id\": 0, \"bbox\": [376.31, 187.607, 63.708, 40.011], \"score\": 0.00204}, {\"image_id\": \"dish_1557863056\", \"category_id\": 6, \"bbox\": [325.325, 178.079, 162.425, 157.861], \"score\": 0.00199}, {\"image_id\": \"dish_1557863056\", \"category_id\": 3, \"bbox\": [543.829, 199.782, 30.193, 31.365], \"score\": 0.00181}, {\"image_id\": \"dish_1557863056\", \"category_id\": 0, \"bbox\": [322.769, 172.273, 163.781, 167.132], \"score\": 0.00109}, {\"image_id\": \"dish_1564689168\", \"category_id\": 1, \"bbox\": [214.965, 45.724, 385.876, 416.327], \"score\": 0.70101}, {\"image_id\": \"dish_1564689168\", \"category_id\": 3, \"bbox\": [241.921, 37.587, 231.282, 235.252], \"score\": 0.17571}, {\"image_id\": \"dish_1564689168\", \"category_id\": 3, \"bbox\": [244.459, 40.787, 323.203, 249.225], \"score\": 0.12668}, {\"image_id\": \"dish_1564689168\", \"category_id\": 1, \"bbox\": [208.223, 186.909, 397.879, 272.79], \"score\": 0.12223}, {\"image_id\": \"dish_1564689168\", \"category_id\": 3, \"bbox\": [235.875, 36.476, 173.063, 229.379], \"score\": 0.09117}, {\"image_id\": \"dish_1564689168\", \"category_id\": 3, \"bbox\": [291.777, 86.464, 225.519, 243.292], \"score\": 0.0723}, {\"image_id\": \"dish_1564689168\", \"category_id\": 8, \"bbox\": [360.772, 171.403, 188.848, 128.855], \"score\": 0.05835}]"
      ],
      "metadata": {
        "id": "oh-YXghI2Y1H"
      }
    },
    {
      "cell_type": "code",
      "source": [
        "import json\n",
        "import collections\n",
        "\n",
        "output_data = {}\n",
        "input_data = [ {\"image_id\": \"dish_1563827132\", \"category_id\": 0, \"bbox\": [448.82, 0.0, 186.943, 172.124], \"score\": 0.92466}, {\"image_id\": \"dish_1563827132\", \"category_id\": 1, \"bbox\": [374.734, 170.676, 244.255, 235.215], \"score\": 0.78086}, {\"image_id\": \"dish_1563827132\", \"category_id\": 1, \"bbox\": [200.128, 0.0, 187.217, 215.673], \"score\": 0.45619}, {\"image_id\": \"dish_1563827132\", \"category_id\": 6, \"bbox\": [453.453, 51.224, 112.915, 105.642], \"score\": 0.43432}, {\"image_id\": \"dish_1563827132\", \"category_id\": 4, \"bbox\": [197.469, 5.074, 237.091, 190.512], \"score\": 0.18278}, {\"image_id\": \"dish_1563827132\", \"category_id\": 6, \"bbox\": [478.572, 54.834, 98.373, 97.721], \"score\": 0.15755}, {\"image_id\": \"dish_1563827132\", \"category_id\": 4, \"bbox\": [308.935, 35.175, 130.408, 140.418], \"score\": 0.13081}, {\"image_id\": \"dish_1563827132\", \"category_id\": 6, \"bbox\": [461.519, 66.37, 89.766, 90.207], \"score\": 0.10089}, {\"image_id\": \"dish_1563827132\", \"category_id\": 1, \"bbox\": [194.222, 4.604, 134.591, 205.644], \"score\": 0.0837}, {\"image_id\": \"dish_1563827132\", \"category_id\": 6, \"bbox\": [470.715, 49.981, 88.239, 82.223], \"score\": 0.07563}, {\"image_id\": \"dish_1563827132\", \"category_id\": 6, \"bbox\": [453.953, 74.064, 125.431, 85.802], \"score\": 0.06492}, {\"image_id\": \"dish_1563827132\", \"category_id\": 6, \"bbox\": [481.347, 42.293, 88.337, 93.809], \"score\": 0.06224}, {\"image_id\": \"dish_1563827132\", \"category_id\": 6, \"bbox\": [446.151, 58.461, 91.94, 90.362], \"score\": 0.05398}, {\"image_id\": \"dish_1563827132\", \"category_id\": 6, \"bbox\": [459.522, 82.298, 79.876, 76.325], \"score\": 0.0439}, {\"image_id\": \"dish_1563827132\", \"category_id\": 4, \"bbox\": [277.241, 15.621, 162.274, 167.301], \"score\": 0.04042}, {\"image_id\": \"dish_1563827132\", \"category_id\": 6, \"bbox\": [491.289, 77.659, 86.656, 74.416], \"score\": 0.01929}, {\"image_id\": \"dish_1563827132\", \"category_id\": 6, \"bbox\": [478.478, 44.512, 76.333, 75.285], \"score\": 0.01865}, {\"image_id\": \"dish_1563827132\", \"category_id\": 6, \"bbox\": [498.498, 52.461, 78.238, 87.627], \"score\": 0.01648}, {\"image_id\": \"dish_1563827132\", \"category_id\": 4, \"bbox\": [235.88, 45.181, 198.908, 148.504], \"score\": 0.01413}, {\"image_id\": \"dish_1563827132\", \"category_id\": 6, \"bbox\": [465.476, 89.019, 96.785, 68.597], \"score\": 0.0135}, {\"image_id\": \"dish_1563827132\", \"category_id\": 3, \"bbox\": [486.885, 145.137, 133.699, 126.746], \"score\": 0.01304}, {\"image_id\": \"dish_1563827132\", \"category_id\": 6, \"bbox\": [457.561, 51.212, 82.02, 78.406], \"score\": 0.01045}, {\"image_id\": \"dish_1563827132\", \"category_id\": 6, \"bbox\": [492.988, 35.575, 71.342, 77.154], \"score\": 0.00854}, {\"image_id\": \"dish_1563827132\", \"category_id\": 4, \"bbox\": [199.019, 0.0, 156.868, 216.843], \"score\": 0.00767}, {\"image_id\": \"dish_1563827132\", \"category_id\": 6, \"bbox\": [369.454, 175.107, 232.567, 225.703], \"score\": 0.00761}, {\"image_id\": \"dish_1563827132\", \"category_id\": 6, \"bbox\": [456.642, 188.613, 120.194, 140.705], \"score\": 0.00531}, {\"image_id\": \"dish_1563827132\", \"category_id\": 6, \"bbox\": [466.499, 214.335, 108.29, 75.308], \"score\": 0.00515}, {\"image_id\": \"dish_1563827132\", \"category_id\": 3, \"bbox\": [449.111, 151.728, 173.576, 127.228], \"score\": 0.00484}, {\"image_id\": \"dish_1563827132\", \"category_id\": 6, \"bbox\": [506.699, 50.113, 81.891, 80.433], \"score\": 0.00462}, {\"image_id\": \"dish_1563827132\", \"category_id\": 6, \"bbox\": [474.689, 201.877, 105.011, 100.954], \"score\": 0.0045}, {\"image_id\": \"dish_1563827132\", \"category_id\": 6, \"bbox\": [449.146, 73.099, 72.96, 69.909], \"score\": 0.00447}, {\"image_id\": \"dish_1563827132\", \"category_id\": 1, \"bbox\": [221.559, 0.464, 128.204, 114.694], \"score\": 0.00394}, {\"image_id\": \"dish_1563827132\", \"category_id\": 1, \"bbox\": [210.502, 0.0, 284.491, 420.274], \"score\": 0.00391}, {\"image_id\": \"dish_1563827132\", \"category_id\": 3, \"bbox\": [369.454, 175.107, 232.567, 225.703], \"score\": 0.00383}, {\"image_id\": \"dish_1563827132\", \"category_id\": 6, \"bbox\": [454.101, 94.124, 77.467, 68.208], \"score\": 0.00377}, {\"image_id\": \"dish_1563827132\", \"category_id\": 3, \"bbox\": [448.82, 0.0, 186.943, 172.124], \"score\": 0.0036}, {\"image_id\": \"dish_1563827132\", \"category_id\": 1, \"bbox\": [250.826, 40.154, 78.918, 80.352], \"score\": 0.00357}, {\"image_id\": \"dish_1563827132\", \"category_id\": 1, \"bbox\": [228.966, 45.89, 118.189, 73.403], \"score\": 0.00323}, {\"image_id\": \"dish_1563827132\", \"category_id\": 6, \"bbox\": [501.033, 196.371, 80.262, 95.402], \"score\": 0.00323}, {\"image_id\": \"dish_1563827132\", \"category_id\": 6, \"bbox\": [485.435, 205.444, 97.108, 66.254], \"score\": 0.00318}, {\"image_id\": \"dish_1563827132\", \"category_id\": 0, \"bbox\": [369.454, 175.107, 232.567, 225.703], \"score\": 0.0031}, {\"image_id\": \"dish_1563827132\", \"category_id\": 6, \"bbox\": [469.002, 201.932, 85.701, 93.885], \"score\": 0.00296}, {\"image_id\": \"dish_1563827132\", \"category_id\": 4, \"bbox\": [328.688, 60.075, 221.462, 114.386], \"score\": 0.00256}, {\"image_id\": \"dish_1563827132\", \"category_id\": 6, \"bbox\": [479.666, 165.31, 87.315, 135.128], \"score\": 0.00241}, {\"image_id\": \"dish_1563827132\", \"category_id\": 6, \"bbox\": [508.08, 210.68, 70.808, 50.464], \"score\": 0.00239}, {\"image_id\": \"dish_1563827132\", \"category_id\": 6, \"bbox\": [433.028, 180.885, 135.423, 166.173], \"score\": 0.00223}, {\"image_id\": \"dish_1563827132\", \"category_id\": 0, \"bbox\": [197.469, 5.074, 237.091, 190.512], \"score\": 0.00214}, {\"image_id\": \"dish_1563827132\", \"category_id\": 6, \"bbox\": [449.375, 83.649, 68.132, 77.712], \"score\": 0.00207}, {\"image_id\": \"dish_1563827132\", \"category_id\": 1, \"bbox\": [237.158, 52.886, 137.76, 67.697], \"score\": 0.00202}, {\"image_id\": \"dish_1563827132\", \"category_id\": 4, \"bbox\": [327.442, 53.208, 116.889, 117.979], \"score\": 0.00201}, {\"image_id\": \"dish_1563827132\", \"category_id\": 6, \"bbox\": [484.755, 180.038, 93.407, 110.894], \"score\": 0.00195}, {\"image_id\": \"dish_1563827132\", \"category_id\": 6, \"bbox\": [448.467, 90.765, 121.158, 76.564], \"score\": 0.00182}, {\"image_id\": \"dish_1563827132\", \"category_id\": 6, \"bbox\": [510.438, 191.895, 67.919, 80.236], \"score\": 0.00169}, {\"image_id\": \"dish_1563827132\", \"category_id\": 3, \"bbox\": [551.94, 32.77, 40.355, 32.807], \"score\": 0.00165}, {\"image_id\": \"dish_1563827132\", \"category_id\": 4, \"bbox\": [341.963, 111.333, 106.852, 58.888], \"score\": 0.00162}, {\"image_id\": \"dish_1563827132\", \"category_id\": 6, \"bbox\": [517.853, 203.758, 66.219, 70.366], \"score\": 0.00144}, {\"image_id\": \"dish_1563827132\", \"category_id\": 1, \"bbox\": [249.861, 21.034, 90.94, 139.399], \"score\": 0.00144}, {\"image_id\": \"dish_1563827132\", \"category_id\": 1, \"bbox\": [263.337, 15.379, 90.332, 158.173], \"score\": 0.00143}, {\"image_id\": \"dish_1563827132\", \"category_id\": 4, \"bbox\": [290.131, 55.946, 150.764, 130.688], \"score\": 0.00141}, {\"image_id\": \"dish_1563827132\", \"category_id\": 6, \"bbox\": [396.26, 177.323, 131.483, 143.267], \"score\": 0.00138}, {\"image_id\": \"dish_1563827132\", \"category_id\": 5, \"bbox\": [446.16, 0.0, 190.244, 173.42], \"score\": 0.00137}, {\"image_id\": \"dish_1563827132\", \"category_id\": 1, \"bbox\": [240.468, 30.981, 91.878, 99.808], \"score\": 0.00135}, {\"image_id\": \"dish_1563827132\", \"category_id\": 6, \"bbox\": [423.317, 191.772, 113.674, 120.94], \"score\": 0.00134}, {\"image_id\": \"dish_1563827132\", \"category_id\": 6, \"bbox\": [437.506, 209.743, 106.005, 88.194], \"score\": 0.00125}, {\"image_id\": \"dish_1563827132\", \"category_id\": 3, \"bbox\": [434.655, 98.936, 191.049, 165.719], \"score\": 0.00122}, {\"image_id\": \"dish_1563827132\", \"category_id\": 1, \"bbox\": [316.585, 49.683, 122.148, 122.594], \"score\": 0.00118}, {\"image_id\": \"dish_1563827132\", \"category_id\": 4, \"bbox\": [210.165, 59.871, 210.85, 156.614], \"score\": 0.00115}, {\"image_id\": \"dish_1563827132\", \"category_id\": 1, \"bbox\": [208.806, 6.896, 205.334, 162.167], \"score\": 0.00112}, {\"image_id\": \"dish_1563827132\", \"category_id\": 6, \"bbox\": [492.375, 185.095, 90.65, 149.546], \"score\": 0.00112}, {\"image_id\": \"dish_1563827132\", \"category_id\": 6, \"bbox\": [444.818, 217.24, 112.676, 67.583], \"score\": 0.00108}]\n",
        "for item in input_data:\n",
        "  # estimate proportion for each item\n",
        "  bbox_area = abs(item[\"bbox\"][0] - item[\"bbox\"][2]) * abs(item[\"bbox\"][1] - item[\"bbox\"][3])\n",
        "  if item[\"score\"] < 0.3 and bbox_area < 8000:\n",
        "    continue  # ignores items whose score < 0.3\n",
        "\n",
        "  image_id = item[\"image_id\"]\n",
        "  category_id = item[\"category_id\"]\n",
        "  items = collections.defaultdict(int)\n",
        "  if image_id in output_data:\n",
        "    output_data[image_id][category_id] += bbox_area\n",
        "  else:\n",
        "    output_data[image_id] = items\n",
        "\n",
        "final_output = [{\"image_id\": key, \"items\": dict(value)} for key, value in output_data.items()]\n",
        "\n",
        "input_json = json.dumps(final_output, indent=4)"
      ],
      "metadata": {
        "id": "vo39QDSV2SmL"
      },
      "execution_count": 11,
      "outputs": []
    },
    {
      "cell_type": "code",
      "source": [
        "final_output"
      ],
      "metadata": {
        "colab": {
          "base_uri": "https://localhost:8080/"
        },
        "id": "9k7TvI2gaitC",
        "outputId": "9a4f63c5-da6b-4349-9e4c-eeade19b71de"
      },
      "execution_count": 16,
      "outputs": [
        {
          "output_type": "execute_result",
          "data": {
            "text/plain": [
              "[{'image_id': 'dish_1563827132',\n",
              "  'items': {1: 132871.70933199997,\n",
              "   6: 760140.953406,\n",
              "   4: 81751.753986,\n",
              "   3: 61344.056245999986,\n",
              "   5: 44380.95272}}]"
            ]
          },
          "metadata": {},
          "execution_count": 16
        }
      ]
    },
    {
      "cell_type": "code",
      "execution_count": 21,
      "metadata": {
        "colab": {
          "base_uri": "https://localhost:8080/"
        },
        "id": "ZOKzEg-e2PfA",
        "outputId": "577c6501-1bb2-485e-baf3-717545ab2a33"
      },
      "outputs": [
        {
          "output_type": "stream",
          "name": "stdout",
          "text": [
            "[\n",
            "    {\n",
            "        \"image_id\": \"dish_1563827132\",\n",
            "        \"items\": {\n",
            "            \"1\": 132871.70933199997,\n",
            "            \"6\": 760140.953406,\n",
            "            \"4\": 81751.753986,\n",
            "            \"3\": 61344.056245999986,\n",
            "            \"5\": 44380.95272\n",
            "        }\n",
            "    }\n",
            "]\n",
            "{'image_id': 'dish_1563827132', 'items': {'1': 132871.70933199997, '6': 760140.953406, '4': 81751.753986, '3': 61344.056245999986, '5': 44380.95272}}\n",
            "For image dish_1563827132, you only eat vegetables, fruits, meat, you should eat some eggs, carbohydrates to keep a balanced nutrition. Also, remeber not to eat too much cheese, desserts: )Keep in mind: the suggested proportion for cheese is 0.1, yours is over the amount. Keep in mind: the suggested proportion for fruits is 0.2, yours is below the amount. Keep in mind: the suggested proportion for meat is 0.25, yours is below the amount. Keep in mind: the suggested proportion for desserts is 0.1, yours is below the amount. \n"
          ]
        }
      ],
      "source": [
        "food_categories = {\n",
        "  0: \"carbohydrates\",\n",
        "  1: \"vegetables\",\n",
        "  2: \"beans\",\n",
        "  3: \"meat\",\n",
        "  4: \"fruits\",\n",
        "  5: \"desserts\",\n",
        "  6: \"cheese\",\n",
        "  7: \"eggs\",\n",
        "  8: \"nuts\"\n",
        "}\n",
        "\n",
        "# suggested proportion for each category in a meal\n",
        "suggested_proportion = {\n",
        "  0: 0.25,\n",
        "  1: 0.20,\n",
        "  2: 0.10,\n",
        "  3: 0.25,\n",
        "  4: 0.20,\n",
        "  5: 0.10,\n",
        "  6: 0.10,\n",
        "  7: 0.05,\n",
        "  8: 0.05\n",
        "}\n",
        "def generate_health_advice(image_data: str):\n",
        "  image_json = json.loads(image_data)\n",
        "  # exluded food categories for advice to eat more of them\n",
        "  excluded_categories = {2, 5, 6, 8}\n",
        "  # bad food categories for advice to warn against eating too much\n",
        "  bad_categories = {5, 6}\n",
        "\n",
        "  advice_list = []\n",
        "\n",
        "  for img in image_json:\n",
        "    print(img)\n",
        "    image_id = img[\"image_id\"]\n",
        "    bboxes = img[\"items\"]\n",
        "    items = [int(category) for category in img[\"items\"].keys()]\n",
        "    included_items = [food_categories[i] for i in items if i not in excluded_categories]\n",
        "    bad_items = {food_categories[i] for i in items if i in bad_categories}\n",
        "\n",
        "    # detect good categories that are missing\n",
        "    missing_categories = {food_categories[i] for i in food_categories if i not in excluded_categories}\n",
        "    missing_categories -= set(included_items)\n",
        "    missing_items = \", \".join(missing_categories)\n",
        "\n",
        "    advice = f\"For image {image_id}, \"\n",
        "    if len(missing_categories) == 0:\n",
        "      advice += f\"your meal contains a balanced nutrition from a diverse categories of food! \"\n",
        "    else:\n",
        "      advice += f\"you only eat {', '.join(included_items)}, \" \\\n",
        "                f\"you should eat some {missing_items} to keep a balanced nutrition. \"\n",
        "    if len(bad_items) > 0:\n",
        "      advice += f\"Also, remeber not to eat too much {', '.join(bad_items)}: ) \"\n",
        "\n",
        "    total_amount = sum(bboxes.values())\n",
        "    for item in items:\n",
        "      if bboxes[str(item)]/total_amount > suggested_proportion[item]:\n",
        "        advice += f\"Keep in mind: the suggested proportion for {food_categories[item]} is {suggested_proportion[item]}, yours is over the amount. \"\n",
        "      elif bboxes[str(item)]/total_amount < suggested_proportion[item]/2:\n",
        "        advice += f\"Keep in mind: the suggested proportion for {food_categories[item]} is {suggested_proportion[item]}, yours is below the amount. \"\n",
        "\n",
        "    advice_list.append(advice)\n",
        "\n",
        "  return advice_list\n",
        "\n",
        "print(input_json)\n",
        "\n",
        "health_advices = generate_health_advice(input_json)\n",
        "\n",
        "for advice in health_advices:\n",
        "  print(advice)"
      ]
    }
  ]
}